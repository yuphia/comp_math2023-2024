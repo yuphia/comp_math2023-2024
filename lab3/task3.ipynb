{
 "cells": [
  {
   "cell_type": "code",
   "execution_count": 57,
   "metadata": {},
   "outputs": [],
   "source": [
    "import numpy as np\n",
    "import math"
   ]
  },
  {
   "cell_type": "code",
   "execution_count": 58,
   "metadata": {},
   "outputs": [
    {
     "name": "stdout",
     "output_type": "stream",
     "text": [
      "Solution = 0.4999999999880201\n",
      "F(x) = -8.385958594203657e-11\n"
     ]
    }
   ],
   "source": [
    "# МПИ для уравнений\n",
    "\n",
    "def f(x):\n",
    "    return (3-2*(x**2))/5\n",
    "def F(x):\n",
    "    return 2*(x**2) + 5*x - 3\n",
    "\n",
    "x = 0\n",
    "\n",
    "while abs(F(x)) > 1e-10:\n",
    "    x=f(x)\n",
    "\n",
    "print(\"Solution =\", x)\n",
    "print(\"F(x) =\", F(x))"
   ]
  },
  {
   "cell_type": "code",
   "execution_count": 59,
   "metadata": {},
   "outputs": [
    {
     "name": "stdout",
     "output_type": "stream",
     "text": [
      "Solution =  [0.510042400118101 -0.20183436130206134]\n",
      "F(x) = [-1.059091387634048e-05 -0.000214701953925589]\n"
     ]
    }
   ],
   "source": [
    "# МПИ для систем уравнений\n",
    "\n",
    "# sin(x+1)-y=1.2\n",
    "# 2x+cosy=2\n",
    "\n",
    "F1 = lambda x: math.sin(x[0] + 1) - x[1] - 1.2\n",
    "F2 = lambda x: math.cos(x[1]) + 2*x[0] - 2\n",
    "\n",
    "f1 = lambda x: 1-math.cos(x[1])/2\n",
    "f2 = lambda x: math.sin(x[0]+1)-1.2\n",
    "\n",
    "F = (F1, F2)\n",
    "f = (f1, f2)\n",
    "x = [0, 0]\n",
    "\n",
    "def apply_function(F, x):\n",
    "    tmp = np.zeros_like(F)\n",
    "    for i in range(len(F)):\n",
    "        tmp[i] = F[i](x)\n",
    "    return tmp\n",
    "\n",
    "while np.linalg.norm(apply_function(F, x)) > 1e-3:\n",
    "    x = apply_function(f, x)\n",
    "\n",
    "\n",
    "print(\"Solution = \", x)\n",
    "print(\"F(x) =\", apply_function(F, x))"
   ]
  },
  {
   "cell_type": "code",
   "execution_count": 60,
   "metadata": {},
   "outputs": [
    {
     "name": "stdout",
     "output_type": "stream",
     "text": [
      "-3\n",
      "Solution = 0.500000000001576\n",
      "F(x) = 1.1032064151095256e-11\n"
     ]
    }
   ],
   "source": [
    "# Метод Ньютона \n",
    "\n",
    "def derivative(F, x, delta):\n",
    "    return (F(x+delta) - F(x))/delta\n",
    "\n",
    "def f(x):\n",
    "    return (3-2*(x**2))/5\n",
    "def F(x):\n",
    "    return 2*(x**2) + 5*x - 3\n",
    "\n",
    "x = 0\n",
    "delta = 1e-10\n",
    "\n",
    "print(F(x))\n",
    "\n",
    "while abs(F(x)) > 1e-10:\n",
    "    x = x - F(x)/derivative(F, x, delta)\n",
    "\n",
    "print(\"Solution =\", x)\n",
    "print(\"F(x) =\", F(x))\n"
   ]
  },
  {
   "cell_type": "code",
   "execution_count": 80,
   "metadata": {},
   "outputs": [
    {
     "name": "stdout",
     "output_type": "stream",
     "text": [
      "Solution = [0.5101496455145396 -0.2018333893389441]\n",
      "F(x) = [-5.0570457021947846e-06 -1.631518342648519e-08]\n"
     ]
    }
   ],
   "source": [
    "# Метод Ньютона для систем\n",
    "\n",
    "F1 = lambda x: math.sin(x[0] + 1) - x[1] - 1.2\n",
    "F2 = lambda x: math.cos(x[1]) + 2*x[0] - 2\n",
    "\n",
    "f1 = lambda x: 1-math.cos(x[1])/2\n",
    "f2 = lambda x: math.sin(x[0]+1)-1.2\n",
    "\n",
    "F = (F1, F2)\n",
    "f = (f1, f2)\n",
    "x = [0, 0]\n",
    "delta = 1e-10\n",
    "\n",
    "def partial_derivative(F, x, i, j, delta):\n",
    "    tmp = np.zeros_like(x).astype(float)\n",
    "    tmp[j] = delta\n",
    "    return (F[i](x + tmp) - F[i](x))/delta\n",
    "\n",
    "def Jacobian(F, x, delta):\n",
    "    J = np.zeros((2, 2))\n",
    "    for i in range(len(x)):\n",
    "        for j in range(len(x)):\n",
    "            J[i][j]=partial_derivative(F, x, i, j, delta)\n",
    "\n",
    "    return J\n",
    "\n",
    "while np.linalg.norm(apply_function(F, x)) > 1e-3:\n",
    "    x = x - np.dot(np.linalg.inv(Jacobian(F, x, delta)), apply_function(F, x))\n",
    "\n",
    "print(\"Solution =\", x)\n",
    "print(\"F(x) =\", apply_function(F, x))\n"
   ]
  }
 ],
 "metadata": {
  "kernelspec": {
   "display_name": "Python 3",
   "language": "python",
   "name": "python3"
  },
  "language_info": {
   "codemirror_mode": {
    "name": "ipython",
    "version": 3
   },
   "file_extension": ".py",
   "mimetype": "text/x-python",
   "name": "python",
   "nbconvert_exporter": "python",
   "pygments_lexer": "ipython3",
   "version": "3.11.5"
  },
  "orig_nbformat": 4
 },
 "nbformat": 4,
 "nbformat_minor": 2
}
